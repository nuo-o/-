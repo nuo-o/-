{
 "cells": [
  {
   "cell_type": "code",
   "execution_count": 26,
   "metadata": {},
   "outputs": [],
   "source": [
    "import os\n",
    "import pickle\n",
    "import keras\n",
    "import matplotlib.pyplot as plt\n",
    "import numpy as np\n",
    "import sklearn\n",
    "from keras.models import Sequential\n",
    "from keras.layers import Convolution2D, Dense, Dropout, Activation, GlobalMaxPooling1D, LSTM, Conv1D, MaxPooling1D, Activation\n",
    "from keras.optimizers import SGD,Adam\n",
    "from keras.callbacks import EarlyStopping,ModelCheckpoint\n",
    "from keras import regularizers\n",
    "from keras import losses\n",
    "from sklearn.metrics import roc_curve, auc #roc_auc_score as AUC\n"
   ]
  },
  {
   "cell_type": "code",
   "execution_count": 6,
   "metadata": {
    "scrolled": false
   },
   "outputs": [],
   "source": [
    "def load_pickle(file_path, max_bytes = 2**31 - 1):\n",
    "    bytes_in = bytearray(0)\n",
    "    input_size = os.path.getsize(file_path)\n",
    "    with open(file_path, 'rb') as f_in:\n",
    "        for _ in range(0, input_size, max_bytes):\n",
    "            bytes_in += f_in.read(max_bytes)\n",
    "    \n",
    "    return pickle.loads(bytes_in)\n",
    "\n",
    "train_raw = load_pickle('train_df_after_preprocessing.pkl')\n",
    "test_raw = load_pickle('test_df_after_preprocessing.pkl')\n",
    "valid_raw = load_pickle('valid_df_after_preprocessing.pkl')\n"
   ]
  },
  {
   "cell_type": "code",
   "execution_count": 66,
   "metadata": {},
   "outputs": [
    {
     "name": "stdout",
     "output_type": "stream",
     "text": [
      "(19723, 1)\n",
      "(19723, 252, 2)\n",
      "(303925, 1)\n",
      "(303925, 252, 2)\n"
     ]
    }
   ],
   "source": [
    "y_train = train_raw['click'].values\n",
    "y_train = y_train.reshape(len(y_train), 1)\n",
    "x_train = train_raw.drop('click', axis = 1).values\n",
    "#x_train = x_train.reshape(x_train.shape[0],11, 43)\n",
    "x_train = x_train.reshape(x_train.shape[0],252, 2)\n",
    "\n",
    "y_valid = valid_raw['click'].values\n",
    "y_valid = y_valid.reshape(len(y_valid), 1)\n",
    "x_valid = valid_raw.drop('click', axis = 1).values\n",
    "#x_valid = x_valid.reshape(x_valid.shape[0], 11, 43)\n",
    "x_valid = x_valid.reshape(x_valid.shape[0], 252, 2)\n",
    "\n",
    "print(y_train.shape)\n",
    "print(x_train.shape)\n",
    "print(y_valid.shape)\n",
    "print(x_valid.shape)\n"
   ]
  },
  {
   "cell_type": "code",
   "execution_count": 72,
   "metadata": {},
   "outputs": [
    {
     "name": "stdout",
     "output_type": "stream",
     "text": [
      "_________________________________________________________________\n",
      "Layer (type)                 Output Shape              Param #   \n",
      "=================================================================\n",
      "lstm_12 (LSTM)               (None, 252, 32)           4480      \n",
      "_________________________________________________________________\n",
      "dropout_36 (Dropout)         (None, 252, 32)           0         \n",
      "_________________________________________________________________\n",
      "lstm_13 (LSTM)               (None, 32)                8320      \n",
      "_________________________________________________________________\n",
      "dropout_37 (Dropout)         (None, 32)                0         \n",
      "_________________________________________________________________\n",
      "dense_55 (Dense)             (None, 1)                 33        \n",
      "=================================================================\n",
      "Total params: 12,833\n",
      "Trainable params: 12,833\n",
      "Non-trainable params: 0\n",
      "_________________________________________________________________\n"
     ]
    }
   ],
   "source": [
    "MODEL_CHECKPOINT_FILE_PATH='Keras-LSTM.hdf5'\n",
    "\n",
    "model = Sequential()\n",
    "BATCH_SIZE = 64\n",
    "LEARNING_RATE=0.0001\n",
    "input_dim = x_train.shape[1]\n",
    "output_dim = y_train.shape[1]\n",
    "# nb_filter = 250\n",
    "# filter_length = 3\n",
    "hidden_dims = 250\n",
    "\n",
    "#mlp1\n",
    "# model.add(Dense(32, activation='relu', input_dim=input_dim))\n",
    "# model.add(Dense(output_dim, activation='sigmoid'))\n",
    "\n",
    "#mlp2\n",
    "# model.add(Dense(64, input_dim=input_dim, activation='relu'))\n",
    "# model.add(Dropout(0.5))\n",
    "# model.add(Dense(64, activation='relu'))\n",
    "# model.add(Dropout(0.5))\n",
    "# model.add(Dense(output_dim, activation='sigmoid'))\n",
    "\n",
    "# lstm\n",
    "model.add(LSTM(32, return_sequences=True,\n",
    "               input_shape=(252, 2)))  # returns a sequence of vectors of dimension 32\n",
    "model.add(Dropout(0.2))\n",
    "model.add(LSTM(32))  # return a single vector of dimension 32\n",
    "model.add(Dropout(0.2))\n",
    "model.add(Dense(output_dim, activation='linear'))\n",
    "\n",
    "optimizer=Adam(lr=LEARNING_RATE)\n",
    "model.compile(optimizer='rmsprop', loss='binary_crossentropy', metrics=['accuracy'])\n",
    "model.summary()"
   ]
  },
  {
   "cell_type": "code",
   "execution_count": 74,
   "metadata": {},
   "outputs": [
    {
     "name": "stdout",
     "output_type": "stream",
     "text": [
      "Train on 19723 samples, validate on 303925 samples\n",
      "Epoch 1/15\n",
      "19723/19723 [==============================] - 682s 35ms/step - loss: 0.3057 - acc: 0.9091 - val_loss: 0.1120 - val_acc: 0.9993\n",
      "\n",
      "Epoch 00001: val_loss improved from inf to 0.11199, saving model to Keras-LSTM.hdf5\n",
      "Epoch 2/15\n",
      "19723/19723 [==============================] - 688s 35ms/step - loss: 0.3006 - acc: 0.9091 - val_loss: 0.1002 - val_acc: 0.9993\n",
      "\n",
      "Epoch 00002: val_loss improved from 0.11199 to 0.10019, saving model to Keras-LSTM.hdf5\n",
      "Epoch 3/15\n",
      "19723/19723 [==============================] - 661s 34ms/step - loss: 0.3027 - acc: 0.9091 - val_loss: 0.0835 - val_acc: 0.9993\n",
      "\n",
      "Epoch 00003: val_loss improved from 0.10019 to 0.08348, saving model to Keras-LSTM.hdf5\n",
      "Epoch 4/15\n",
      "19723/19723 [==============================] - 653s 33ms/step - loss: 0.3012 - acc: 0.9091 - val_loss: 0.1032 - val_acc: 0.9993\n",
      "\n",
      "Epoch 00004: val_loss did not improve\n",
      "Epoch 5/15\n",
      "19723/19723 [==============================] - 648s 33ms/step - loss: 0.3162 - acc: 0.9080 - val_loss: 0.0375 - val_acc: 0.9967\n",
      "\n",
      "Epoch 00005: val_loss improved from 0.08348 to 0.03746, saving model to Keras-LSTM.hdf5\n",
      "Epoch 6/15\n",
      "19723/19723 [==============================] - 649s 33ms/step - loss: 0.3130 - acc: 0.9088 - val_loss: 0.1275 - val_acc: 0.9993\n",
      "\n",
      "Epoch 00006: val_loss did not improve\n",
      "Epoch 7/15\n",
      "19723/19723 [==============================] - 644s 33ms/step - loss: 0.3030 - acc: 0.9090 - val_loss: 0.0851 - val_acc: 0.9870\n",
      "\n",
      "Epoch 00007: val_loss did not improve\n"
     ]
    }
   ],
   "source": [
    "checkpointer = ModelCheckpoint(filepath=MODEL_CHECKPOINT_FILE_PATH, verbose=1, save_best_only=True)\n",
    "earlystopper = EarlyStopping(monitor='val_loss', patience=2, verbose=0)\n",
    "\n",
    "history = model.fit(x_train, y_train,\n",
    "          epochs=15,\n",
    "          batch_size=64,\n",
    "          callbacks=[earlystopper, checkpointer],\n",
    "          validation_data=(x_valid, y_valid))\n",
    "\n",
    "# score = model.evaluate(x_valid, y_valid, batch_size=128)\n",
    "# print(score)"
   ]
  },
  {
   "cell_type": "code",
   "execution_count": 75,
   "metadata": {},
   "outputs": [],
   "source": [
    "model.load_weights(MODEL_CHECKPOINT_FILE_PATH)\n",
    "prob_click_train = model.predict(x_train)\n",
    "prob_click_valid = model.predict(x_valid)\n"
   ]
  },
  {
   "cell_type": "code",
   "execution_count": 76,
   "metadata": {},
   "outputs": [
    {
     "data": {
      "image/png": "[encoded data removed]",
      "text/plain": [
       "<Figure size 432x288 with 1 Axes>"
      ]
     },
     "metadata": {},
     "output_type": "display_data"
    },
    {
     "name": "stdout",
     "output_type": "stream",
     "text": [
      "AUC: 0.555622\n"
     ]
    }
   ],
   "source": [
    "\n",
    "def roc_results_plot(y_true, y_pred_prob):\n",
    "    fpr, tpr, _ = roc_curve(y_true, y_pred_prob)\n",
    "    roc_auc = auc(fpr, tpr)\n",
    "    plt.figure()\n",
    "    plt.plot(fpr, tpr, label='ROC curve (area = %0.2f)' % roc_auc)\n",
    "    plt.plot([0, 1], [0, 1], 'k--')\n",
    "    plt.xlim([0.0, 1.05])\n",
    "    plt.ylim([0.0, 1.05])\n",
    "    plt.xlabel('False Positive Rate')\n",
    "    plt.ylabel('True Positive Rate')\n",
    "    plt.title('Receiver operating characteristic curve')\n",
    "    \n",
    "    plt.show()\n",
    "    print('AUC: %f' % roc_auc)\n",
    "\n",
    "roc_results_plot(y_valid,prob_click_valid)\n"
   ]
  },
  {
   "cell_type": "code",
   "execution_count": null,
   "metadata": {},
   "outputs": [],
   "source": []
  }
 ],
 "metadata": {
  "kernelspec": {
   "display_name": "Python 3",
   "language": "python",
   "name": "python3"
  },
  "language_info": {
   "codemirror_mode": {
    "name": "ipython",
    "version": 3
   },
   "file_extension": ".py",
   "mimetype": "text/x-python",
   "name": "python",
   "nbconvert_exporter": "python",
   "pygments_lexer": "ipython3",
   "version": "3.6.3"
  }
 },
 "nbformat": 4,
 "nbformat_minor": 2
}
