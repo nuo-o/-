{
 "cells": [
  {
   "cell_type": "markdown",
   "metadata": {},
   "source": [
    "# Import Data"
   ]
  },
  {
   "cell_type": "code",
   "execution_count": 1,
   "metadata": {
    "collapsed": true
   },
   "outputs": [],
   "source": [
    "%matplotlib inline\n",
    "import matplotlib.pyplot as plt\n",
    "import numpy as np\n",
    "import pickle\n",
    "import time\n",
    "import os.path\n",
    "import xgboost\n",
    "import math\n",
    "from sklearn.linear_model import LogisticRegression\n",
    "from polylearn import FactorizationMachineClassifier\n",
    "from sklearn import metrics\n",
    "from xgboost import XGBClassifier\n",
    "from sklearn.ensemble import RandomForestClassifier\n",
    "from sklearn.metrics import roc_curve, auc, mean_squared_error #roc_auc_score as AUC\n",
    "from sklearn.externals import joblib\n",
    "\n",
    "n_bytes = 2**31\n",
    "max_bytes = 2**31 - 1\n",
    "\n",
    "def load_pickle(file_path):\n",
    "    \n",
    "    bytes_in = bytearray(0)\n",
    "    input_size = os.path.getsize(file_path)\n",
    "    with open(file_path, 'rb') as f_in:\n",
    "        for _ in range(0, input_size, max_bytes):\n",
    "            bytes_in += f_in.read(max_bytes)\n",
    "    \n",
    "    return pickle.loads(bytes_in)"
   ]
  },
  {
   "cell_type": "code",
   "execution_count": 2,
   "metadata": {
    "collapsed": true
   },
   "outputs": [],
   "source": [
    "train = load_pickle('train_df_after_preprocessing.pkl') # balanced class\n",
    "valid = load_pickle('valid_df_after_preprocessing.pkl')\n",
    "test = load_pickle('test_df_after_preprocessing.pkl')\n",
    "\n",
    "train_click = train['click']\n",
    "train_bidprice = train['bidprice']\n",
    "train_payprice = train['payprice']\n",
    "train_X = train.drop(['click', 'bidprice', 'payprice'], axis = 1)\n",
    "\n",
    "valid_click = valid['click']\n",
    "valid_bidprice = valid['bidprice']\n",
    "valid_payprice = valid['payprice']\n",
    "valid_X = valid.drop(['click', 'bidprice', 'payprice'], axis = 1)"
   ]
  },
  {
   "cell_type": "markdown",
   "metadata": {},
   "source": [
    "# Model"
   ]
  },
  {
   "cell_type": "code",
   "execution_count": 119,
   "metadata": {},
   "outputs": [
    {
     "data": {
      "image/png": "[encoded data removed]",
      "text/plain": [
       "<matplotlib.figure.Figure at 0x1a565f0208>"
      ]
     },
     "metadata": {},
     "output_type": "display_data"
    }
   ],
   "source": [
    "class CTR_Model():\n",
    "    \n",
    "    model_name = \"\"\n",
    "    model = None\n",
    "    FPR = None\n",
    "    TPR = None\n",
    "    AUC = None\n",
    "    \n",
    "    def __init__(self, name):\n",
    "        self.model_name = name\n",
    "        \n",
    "    def saveModel(self):\n",
    "        save_file = self.model_name + \".pickle.dat\"\n",
    "#         self.model = pickle.dump(self.model, open(save_file, \"wb\"))\n",
    "        joblib.dump( self.model, save_file )\n",
    "        \n",
    "    def loadModel(self):\n",
    "        read_file = self.model_name + \".pickle.dat\"\n",
    "        self.model = joblib.load(read_file)\n",
    "        return self.model\n",
    "\n",
    "    def train(self, train_X, train_click):\n",
    "        if self.model_name == 'xgb':\n",
    "            self.model = XGBClassifier(max_depth=5, learning_rate=0.15, \n",
    "                                        n_estimators=90, silent=True, \n",
    "                                        objective='binary:logistic', \n",
    "                                        booster='gbtree', n_jobs=1, nthread=None, \n",
    "                                        gamma=0, min_child_weight=1, \n",
    "                                        max_delta_step=0, subsample=1, \n",
    "                                        colsample_bytree=1, colsample_bylevel=1, \n",
    "                                        reg_alpha=0, reg_lambda=1, scale_pos_weight=1, \n",
    "                                        base_score=0.5, random_state=0, seed=None, missing=None)\n",
    "        elif self.model_name == 'lr':\n",
    "            self.model = LogisticRegression()\n",
    "        elif self.model_name == 'rf':\n",
    "            self.model = RandomForestClassifier()\n",
    "        elif self.model_name == 'fm':\n",
    "            self.model = FactorizationMachineClassifier(max_iter = 800, random_state=666, loss = 'logistic')\n",
    "            \n",
    "        self.model.fit(train_X, train_click)\n",
    "    \n",
    "    def plotROC(self, true_labels, prediction_prob, plot = False):        \n",
    "        fpr, tpr, _ = roc_curve(true_labels, prediction_prob, pos_label=1)\n",
    "        AUC = \"%.4f\" % auc(fpr, tpr)\n",
    "        self.FPR = fpr\n",
    "        self.TPR = tpr\n",
    "        self.AUC = AUC\n",
    "        title = 'ROC Curve, AUC = '+str(AUC)\n",
    "\n",
    "        with plt.style.context(('ggplot')):\n",
    "            fig, ax = plt.subplots()\n",
    "            ax.plot(fpr, tpr, \"#000099\", label='ROC curve')\n",
    "            ax.plot([0, 1], [0, 1], 'k--', label='Baseline')\n",
    "            plt.xlim([0.0, 1.0])\n",
    "            plt.ylim([0.0, 1.05])\n",
    "            plt.xlabel('False Positive Rate')\n",
    "            plt.ylabel('True Positive Rate')\n",
    "            plt.legend(loc='lower right')\n",
    "            plt.title(title)\n",
    "            \n",
    "\n",
    "            \n",
    "            \n",
    "all_fpr, all_tpr, all_auc = [],[],[]\n",
    "\n",
    "xgb = CTR_Model(\"xgb\")\n",
    "xgb.train(train_X, train_click)\n",
    "prediction = xgb.model.predict_proba(valid_X)\n",
    "xgb.plotROC(valid_click, prediction[:,1], plot=False)"
   ]
  },
  {
   "cell_type": "code",
   "execution_count": null,
   "metadata": {},
   "outputs": [],
   "source": []
  },
  {
   "cell_type": "code",
   "execution_count": null,
   "metadata": {},
   "outputs": [],
   "source": []
  },
  {
   "cell_type": "code",
   "execution_count": 120,
   "metadata": {},
   "outputs": [
    {
     "data": {
      "text/plain": [
       "array([[ 0.91311628,  0.0868837 ],\n",
       "       [ 0.8868283 ,  0.11317171],\n",
       "       [ 0.92955869,  0.07044129],\n",
       "       ..., \n",
       "       [ 0.2975477 ,  0.7024523 ],\n",
       "       [ 0.62738836,  0.37261167],\n",
       "       [ 0.85059553,  0.14940447]], dtype=float32)"
      ]
     },
     "execution_count": 120,
     "metadata": {},
     "output_type": "execute_result"
    }
   ],
   "source": [
    "xgb.saveModel()\n",
    "model = joblib.load(\"xgb.pickle.dat\")\n",
    "model.predict_proba(valid_X)"
   ]
  },
  {
   "cell_type": "code",
   "execution_count": null,
   "metadata": {
    "collapsed": true
   },
   "outputs": [],
   "source": []
  }
 ],
 "metadata": {
  "kernelspec": {
   "display_name": "Python 3",
   "language": "python",
   "name": "python3"
  },
  "language_info": {
   "codemirror_mode": {
    "name": "ipython",
    "version": 3
   },
   "file_extension": ".py",
   "mimetype": "text/x-python",
   "name": "python",
   "nbconvert_exporter": "python",
   "pygments_lexer": "ipython3",
   "version": "3.6.2"
  }
 },
 "nbformat": 4,
 "nbformat_minor": 2
}
