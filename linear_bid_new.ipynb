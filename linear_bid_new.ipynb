{
 "cells": [
  {
   "cell_type": "code",
   "execution_count": 42,
   "metadata": {},
   "outputs": [],
   "source": [
    "import numpy as np\n",
    "import pandas as pd\n",
    "import matplotlib.pyplot as plt\n",
    "import numpy as np\n",
    "import pickle\n",
    "import os\n",
    "import sklearn\n",
    "from sklearn.linear_model import LogisticRegression\n",
    "from sklearn.naive_bayes import GaussianNB\n",
    "from sklearn.feature_extraction import DictVectorizer\n",
    "from sklearn.metrics import roc_curve, auc #roc_auc_score as AUC\n",
    "\n",
    "train_raw = pd.read_csv('dataset/train.csv')\n",
    "test_raw = pd.read_csv('dataset/test.csv')\n",
    "validation_raw = pd.read_csv('dataset/validation.csv')"
   ]
  },
  {
   "cell_type": "code",
   "execution_count": 11,
   "metadata": {},
   "outputs": [],
   "source": [
    "def get_avg_ctr(data_list):\n",
    "    data_list = data_list.sample(frac=1)\n",
    "    average_CTR = (data_list.click.value_counts().tolist()[1] * 100) / float(data_list.shape[0])\n",
    "    return average_CTR\n"
   ]
  },
  {
   "cell_type": "code",
   "execution_count": 16,
   "metadata": {},
   "outputs": [],
   "source": [
    "def load_pickle(file_path, max_bytes = 2**31 - 1):\n",
    "    bytes_in = bytearray(0)\n",
    "    input_size = os.path.getsize(file_path)\n",
    "    with open(file_path, 'rb') as f_in:\n",
    "        for _ in range(0, input_size, max_bytes):\n",
    "            bytes_in += f_in.read(max_bytes)\n",
    "    \n",
    "    return pickle.loads(bytes_in)\n",
    "\n",
    "train_raw = load_pickle('train_df_after_preprocessing.pkl')\n",
    "test_raw = load_pickle('test_df_after_preprocessing.pkl')\n",
    "valid_raw = load_pickle('valid_df_after_preprocessing.pkl')"
   ]
  },
  {
   "cell_type": "code",
   "execution_count": 17,
   "metadata": {},
   "outputs": [],
   "source": [
    "y_train = train_raw['click'].values\n",
    "y_train = y_train.reshape(len(y_train), 1)\n",
    "x_train = train_raw.drop('click', axis = 1).values\n",
    "\n",
    "y_valid = valid_raw['click'].values\n",
    "y_valid = y_valid.reshape(len(y_valid), 1)\n",
    "x_valid = valid_raw.drop('click', axis = 1).values"
   ]
  },
  {
   "cell_type": "code",
   "execution_count": null,
   "metadata": {},
   "outputs": [],
   "source": [
    "def get_predict_CTR(X, Y): \n",
    "    model = LogisticRegression(C=1000.0, random_state=0)\n",
    "#     model = GaussianNB()\n",
    "    model.fit(X, Y)\n",
    "    return model"
   ]
  },
  {
   "cell_type": "code",
   "execution_count": 19,
   "metadata": {},
   "outputs": [],
   "source": [
    "def roc_results_plot(y_true, y_pred_prob):\n",
    "    fpr, tpr, _ = roc_curve(y_true, y_pred_prob)\n",
    "    roc_auc = auc(fpr, tpr)\n",
    "    plt.figure()\n",
    "    plt.plot(fpr, tpr, label='ROC curve (area = %0.2f)' % roc_auc)\n",
    "    plt.plot([0, 1], [0, 1], 'k--')\n",
    "    plt.xlim([0.0, 1.05])\n",
    "    plt.ylim([0.0, 1.05])\n",
    "    plt.xlabel('False Positive Rate')\n",
    "    plt.ylabel('True Positive Rate')\n",
    "    plt.title('Receiver operating characteristic curve')\n",
    "    \n",
    "    plt.show()\n",
    "    print('AUC: %f' % roc_auc)\n"
   ]
  },
  {
   "cell_type": "code",
   "execution_count": 95,
   "metadata": {},
   "outputs": [],
   "source": [
    "def evaluate_linear_bidding(data_list, x_valid, y_valid, bid_price, budget, model):\n",
    "    base_bid = float(bid_price)\n",
    "    #avg_CTR = get_avg_ctr(train_raw)\n",
    "    avg_CTR = 0.0737562325662\n",
    "    \n",
    "    predict_CTR_list = model.predict(x_valid)\n",
    "    \n",
    "    total_click = 0\n",
    "    total_impression = 0\n",
    "\n",
    "    data_list['predict_CTR'] = predict_CTR_list\n",
    "    for pay_price, click, predict_CTR in data_list[['payprice', 'click', 'predict_CTR']].values:\n",
    "        if(budget > 0):\n",
    "            bid_price = base_bid * predict_CTR / avg_CTR\n",
    "            if(budget - pay_price >=0 and int(bid_price) >= pay_price):\n",
    "                total_click += click\n",
    "                total_impression += 1\n",
    "                budget -= pay_price\n",
    "        else:\n",
    "            break\n",
    "\n",
    "    if(total_impression == 0):\n",
    "        CTR = 0\n",
    "    else:\n",
    "        CTR = (total_click/ total_impression) * 100\n",
    "    \n",
    "    return [CTR, bid_price]"
   ]
  },
  {
   "cell_type": "code",
   "execution_count": null,
   "metadata": {},
   "outputs": [],
   "source": [
    "def plot_bid():\n",
    "    budget = 6250\n",
    "    base_bid = [n for n in range(1, 30)]\n",
    "    CTR_list = []\n",
    "\n",
    "    model = get_predict_CTR(x_train, y_train)\n",
    "    predict_CTR_list = model.predict(x_valid)\n",
    "    roc_results_plot(predict_CTR_list, y_valid)\n",
    "\n",
    "    for i in base_bid:\n",
    "        tmp = evaluate_linear_bidding(validation_raw, x_valid, y_valid, i, budget, model)\n",
    "        CTR_list.append(tmp[0])\n",
    "    print(CTR_list)\n",
    "    plt.plot(base_bid, CTR_list)\n",
    "    plt.xlabel('base_bid')\n",
    "    plt.ylabel('CTR')"
   ]
  },
  {
   "cell_type": "code",
   "execution_count": 91,
   "metadata": {},
   "outputs": [
    {
     "name": "stderr",
     "output_type": "stream",
     "text": [
      "/Library/Frameworks/Python.framework/Versions/3.6/lib/python3.6/site-packages/sklearn/utils/validation.py:578: DataConversionWarning: A column-vector y was passed when a 1d array was expected. Please change the shape of y to (n_samples, ), for example using ravel().\n",
      "  y = column_or_1d(y, warn=True)\n"
     ]
    },
    {
     "name": "stdout",
     "output_type": "stream",
     "text": [
      "20\n",
      "win:\n",
      "271.1635248187192\n",
      "win:\n",
      "271.1635248187192\n",
      "win:\n",
      "271.1635248187192\n",
      "win:\n",
      "271.1635248187192\n",
      "win:\n",
      "271.1635248187192\n",
      "win:\n",
      "271.1635248187192\n",
      "win:\n",
      "271.1635248187192\n",
      "win:\n",
      "271.1635248187192\n",
      "win:\n",
      "271.1635248187192\n",
      "win:\n",
      "271.1635248187192\n",
      "win:\n",
      "271.1635248187192\n",
      "win:\n",
      "271.1635248187192\n",
      "win:\n",
      "271.1635248187192\n",
      "win:\n",
      "271.1635248187192\n",
      "win:\n",
      "271.1635248187192\n",
      "win:\n",
      "271.1635248187192\n",
      "win:\n",
      "271.1635248187192\n",
      "win:\n",
      "271.1635248187192\n",
      "win:\n",
      "271.1635248187192\n",
      "win:\n",
      "271.1635248187192\n",
      "win:\n",
      "271.1635248187192\n",
      "win:\n",
      "271.1635248187192\n",
      "win:\n",
      "271.1635248187192\n",
      "win:\n",
      "271.1635248187192\n",
      "win:\n",
      "271.1635248187192\n",
      "win:\n",
      "271.1635248187192\n",
      "win:\n",
      "271.1635248187192\n",
      "win:\n",
      "271.1635248187192\n",
      "win:\n",
      "271.1635248187192\n",
      "win:\n",
      "271.1635248187192\n",
      "win:\n",
      "271.1635248187192\n",
      "win:\n",
      "271.1635248187192\n",
      "win:\n",
      "271.1635248187192\n",
      "win:\n",
      "271.1635248187192\n",
      "win:\n",
      "271.1635248187192\n",
      "win:\n",
      "271.1635248187192\n",
      "win:\n",
      "271.1635248187192\n",
      "win:\n",
      "271.1635248187192\n",
      "win:\n",
      "271.1635248187192\n",
      "win:\n",
      "271.1635248187192\n",
      "win:\n",
      "271.1635248187192\n",
      "win:\n",
      "271.1635248187192\n",
      "win:\n",
      "271.1635248187192\n",
      "win:\n",
      "271.1635248187192\n",
      "win:\n",
      "271.1635248187192\n",
      "win:\n",
      "271.1635248187192\n",
      "win:\n",
      "271.1635248187192\n",
      "win:\n",
      "271.1635248187192\n",
      "win:\n",
      "271.1635248187192\n",
      "win:\n",
      "271.1635248187192\n",
      "win:\n",
      "271.1635248187192\n",
      "win:\n",
      "271.1635248187192\n",
      "win:\n",
      "271.1635248187192\n",
      "win:\n",
      "271.1635248187192\n",
      "win:\n",
      "271.1635248187192\n",
      "win:\n",
      "271.1635248187192\n",
      "win:\n",
      "271.1635248187192\n",
      "win:\n",
      "271.1635248187192\n",
      "win:\n",
      "271.1635248187192\n",
      "win:\n",
      "271.1635248187192\n",
      "win:\n",
      "271.1635248187192\n",
      "win:\n",
      "271.1635248187192\n",
      "win:\n",
      "271.1635248187192\n",
      "win:\n",
      "271.1635248187192\n",
      "win:\n",
      "271.1635248187192\n",
      "win:\n",
      "271.1635248187192\n",
      "win:\n",
      "271.1635248187192\n",
      "win:\n",
      "271.1635248187192\n",
      "win:\n",
      "271.1635248187192\n"
     ]
    },
    {
     "data": {
      "text/plain": [
       "[1.4492753623188406, 271.1635248187192]"
      ]
     },
     "execution_count": 91,
     "metadata": {},
     "output_type": "execute_result"
    }
   ],
   "source": [
    "model = get_predict_CTR(x_train, y_train)\n",
    "# predict_CTR_list = model.predict(x_valid)\n",
    "# print(predict_CTR_list)\n",
    "# print(sum(predict_CTR_list))\n",
    "evaluate_linear_bidding(validation_raw, x_valid, y_valid, 20, 6250, model)"
   ]
  },
  {
   "cell_type": "code",
   "execution_count": 96,
   "metadata": {},
   "outputs": [
    {
     "name": "stdout",
     "output_type": "stream",
     "text": [
      "into\n"
     ]
    },
    {
     "name": "stderr",
     "output_type": "stream",
     "text": [
      "/Library/Frameworks/Python.framework/Versions/3.6/lib/python3.6/site-packages/sklearn/utils/validation.py:578: DataConversionWarning: A column-vector y was passed when a 1d array was expected. Please change the shape of y to (n_samples, ), for example using ravel().\n",
      "  y = column_or_1d(y, warn=True)\n"
     ]
    },
    {
     "data": {
      "image/png": "[encoded data removed]",
      "text/plain": [
       "<Figure size 432x288 with 1 Axes>"
      ]
     },
     "metadata": {},
     "output_type": "display_data"
    },
    {
     "name": "stdout",
     "output_type": "stream",
     "text": [
      "AUC: 0.501872\n",
      "1\n",
      "2\n",
      "3\n",
      "4\n",
      "5\n",
      "6\n",
      "7\n",
      "8\n",
      "9\n",
      "10\n",
      "11\n",
      "12\n",
      "13\n",
      "14\n",
      "15\n",
      "16\n",
      "17\n",
      "18\n",
      "19\n",
      "20\n",
      "21\n",
      "22\n",
      "23\n",
      "24\n",
      "25\n",
      "26\n",
      "27\n",
      "28\n",
      "29\n",
      "[0.11037527593818984, 0.17857142857142858, 0.7425742574257426, 1.5151515151515151, 1.3745704467353952, 1.1363636363636365, 1.8181818181818181, 2.0689655172413794, 1.3888888888888888, 1.4150943396226416, 1.6260162601626018, 1.0, 1.015228426395939, 1.1049723756906076, 2.272727272727273, 1.183431952662722, 0.628930817610063, 1.3157894736842104, 1.4492753623188406, 1.4492753623188406, 1.5384615384615385, 1.5384615384615385, 1.5384615384615385, 1.5384615384615385, 1.5384615384615385, 1.5384615384615385, 1.5384615384615385, 1.5384615384615385, 1.5384615384615385]\n"
     ]
    },
    {
     "data": {
      "image/png": "[encoded data removed]",
      "text/plain": [
       "<Figure size 432x288 with 1 Axes>"
      ]
     },
     "metadata": {},
     "output_type": "display_data"
    }
   ],
   "source": [
    "plot_bid()"
   ]
  },
  {
   "cell_type": "code",
   "execution_count": null,
   "metadata": {},
   "outputs": [],
   "source": []
  }
 ],
 "metadata": {
  "kernelspec": {
   "display_name": "Python 3",
   "language": "python",
   "name": "python3"
  }
 },
 "nbformat": 4,
 "nbformat_minor": 2
}
