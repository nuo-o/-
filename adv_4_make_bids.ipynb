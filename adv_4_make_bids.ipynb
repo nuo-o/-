{
 "cells": [
  {
   "cell_type": "markdown",
   "metadata": {},
   "source": [
    "# Import Data"
   ]
  },
  {
   "cell_type": "code",
   "execution_count": 1,
   "metadata": {},
   "outputs": [],
   "source": [
    "%matplotlib inline\n",
    "import matplotlib.pyplot as plt\n",
    "import numpy as np\n",
    "import pickle\n",
    "import time\n",
    "import os.path\n",
    "import math\n",
    "from xgboost import XGBClassifier\n",
    "from sklearn.externals import joblib\n",
    "import pandas as pd\n",
    "\n",
    "n_bytes = 2**31\n",
    "max_bytes = 2**31 - 1\n",
    "\n",
    "class Time_Tracking():\n",
    "    \n",
    "    start_time = None\n",
    "    \n",
    "    def start_tracking(self):\n",
    "        \n",
    "        self.start_time = time.time()\n",
    "    \n",
    "    def stop_tracking(self):\n",
    "        \n",
    "        print(\"Time used:\", round(((time.time() - self.start_time)/60),2), ' minutes')\n",
    "\n",
    "\n",
    "def load_pickle(file_path):\n",
    "    \n",
    "    bytes_in = bytearray(0)\n",
    "    input_size = os.path.getsize(file_path)\n",
    "    with open(file_path, 'rb') as f_in:\n",
    "        for _ in range(0, input_size, max_bytes):\n",
    "            bytes_in += f_in.read(max_bytes)\n",
    "    \n",
    "    return pickle.loads(bytes_in)\n"
   ]
  },
  {
   "cell_type": "code",
   "execution_count": 2,
   "metadata": {},
   "outputs": [],
   "source": [
    "model = joblib.load(\"xgb.pickle.dat\")\n",
    "\n",
    "train = load_pickle('train_df_after_preprocessing.pkl')\n",
    "valid = load_pickle('valid_df_after_preprocessing.pkl')\n",
    "test = load_pickle('test_df_after_preprocessing.pkl')\n",
    "\n",
    "valid_click = valid['click']\n",
    "valid_bidprice = valid['bidprice']\n",
    "valid_payprice = valid['payprice']\n",
    "valid_X = valid.drop(['click', 'bidprice', 'payprice'], axis = 1)"
   ]
  },
  {
   "cell_type": "markdown",
   "metadata": {},
   "source": [
    "### 暂时没时间 tune xgboost, 先 tune 各种strategy"
   ]
  },
  {
   "cell_type": "code",
   "execution_count": 3,
   "metadata": {},
   "outputs": [],
   "source": [
    "# strategy 1: linear bidding(base_line)\n",
    "# strategy 2: OCTR\n",
    "# strategy 3: threshold linear bidding \n",
    "# strategy 4: linear bidding with floor price \n",
    "# strategy 5: sigmoid threshold bid \n",
    "\n",
    "# threshold 可能效果不是很好，因为 threshold = 0.5 的时候，failed = 61, "
   ]
  },
  {
   "cell_type": "code",
   "execution_count": 3,
   "metadata": {},
   "outputs": [],
   "source": [
    "valid_ctr_prediction = model.predict_proba(valid_X)"
   ]
  },
  {
   "cell_type": "code",
   "execution_count": 4,
   "metadata": {},
   "outputs": [],
   "source": [
    "pCTR = valid_ctr_prediction[:,1]\n",
    "bid_price = [1644*p for p in pCTR]\n",
    "auction = bid_price >= valid_payprice\n",
    "win_bid_ix = [index for index,auc in enumerate(auction) if auc]\n",
    "\n",
    "clicks = sum(valid_click[win_bid_ix])\n",
    "spend = sum(valid_payprice[win_bid_ix])\n",
    "num_impress = len(win_bid_ix)\n",
    "\n",
    "sorted_pCTR_index = sorted(range(len(auction)), key=lambda k:pCTR[k])"
   ]
  },
  {
   "cell_type": "code",
   "execution_count": 10,
   "metadata": {},
   "outputs": [
    {
     "data": {
      "text/plain": [
       "array([5, 4, 3, 2, 1])"
      ]
     },
     "execution_count": 10,
     "metadata": {},
     "output_type": "execute_result"
    }
   ],
   "source": [
    "np.arange(,0,-1)"
   ]
  },
  {
   "cell_type": "code",
   "execution_count": 41,
   "metadata": {},
   "outputs": [],
   "source": [
    "auction = bid_price >= valid_payprice\n",
    "win_bid_ix = [ index for index,auc in enumerate(auction) if auc ]\n",
    "bid_spends = valid_payprice[win_bid_ix].values\n",
    "bid_clicks = valid_click[win_bid_ix].values\n",
    "\n",
    "budget = 6250000\n",
    "current_spend = sum(bid_spends)\n",
    "\n",
    "total_bids = len(bid_spends)\n",
    "\n",
    "for i in range(len(bid_spends)):\n",
    "    \n",
    "    current_spend -= bid_spends[total_bids-i-1]\n",
    "    \n",
    "    if current_spend <= budget:\n",
    "        break\n",
    "\n",
    "final_win_bid_ix = win_bid_ix[:(total_bids - i -1)]\n",
    "bid_spends = sum(valid_payprice[final_win_bid_ix].values)\n",
    "bid_clicks = sum(valid_click[final_win_bid_ix].values)"
   ]
  },
  {
   "cell_type": "code",
   "execution_count": 12,
   "metadata": {},
   "outputs": [
    {
     "data": {
      "text/plain": [
       "False"
      ]
     },
     "execution_count": 12,
     "metadata": {},
     "output_type": "execute_result"
    }
   ],
   "source": [
    "sum(valid_payprice[win_bid_ix[:302377]]) <= budget"
   ]
  },
  {
   "cell_type": "code",
   "execution_count": 44,
   "metadata": {},
   "outputs": [
    {
     "name": "stdout",
     "output_type": "stream",
     "text": [
      "clicks: 51 impressions: 80425 spend: 6249997\n"
     ]
    }
   ],
   "source": [
    "def EvaluateClick( bid_price, budget, valid_payprice, valid_click):\n",
    "    \n",
    "    auction = bid_price >= valid_payprice\n",
    "    win_bid_ix = [ index for index,auc in enumerate(auction) if auc ]\n",
    "    bid_spends = valid_payprice[win_bid_ix].values\n",
    "    bid_clicks = valid_click[win_bid_ix].values\n",
    "\n",
    "    budget = 6250000\n",
    "    current_spend = sum(bid_spends)\n",
    "\n",
    "    total_bids = len(bid_spends)\n",
    "\n",
    "    for i in range(len(bid_spends)):\n",
    "\n",
    "        current_spend -= bid_spends[total_bids-i-1]\n",
    "\n",
    "        if current_spend <= budget:\n",
    "            break\n",
    "\n",
    "    final_win_bid_ix = win_bid_ix[:(total_bids - i -1)]\n",
    "    bid_spends = sum(valid_payprice[final_win_bid_ix].values)\n",
    "    bid_clicks = sum(valid_click[final_win_bid_ix].values)\n",
    "    \n",
    "    print('clicks:', bid_clicks, 'impressions:', len(final_win_bid_ix), 'spend:', bid_spends)\n",
    "\n",
    "    return bid_clicks\n",
    "\n",
    "\n",
    "# bid_price = 1644*valid_ctr_prediction[:,1]\n",
    "# EvaluateClick( bid_price, 6250000, valid_payprice, valid_click);"
   ]
  },
  {
   "cell_type": "code",
   "execution_count": 57,
   "metadata": {},
   "outputs": [],
   "source": [
    "# # search the best base_price\n",
    "\n",
    "# base_prices = np.arange(200,250,1)\n",
    "# clicks = []\n",
    "# budget = 6250000\n",
    "\n",
    "# for base in base_prices:\n",
    "    \n",
    "#     pCTR = valid_ctr_prediction[:,1]\n",
    "#     bid_price = base*pCTR\n",
    "#     c = EvaluateClick( bid_price, budget, valid_payprice, valid_click);\n",
    "#     clicks.append(c)\n",
    "\n",
    "    \n",
    "# plt.figure()\n",
    "# plt.plot(base_prices, clicks)\n",
    "# print('best constant:', base_prices[clicks.index(max(clicks))])"
   ]
  },
  {
   "cell_type": "markdown",
   "metadata": {},
   "source": [
    "### The best constant is 214. With 145 clicks on validation set. "
   ]
  },
  {
   "cell_type": "code",
   "execution_count": 122,
   "metadata": {},
   "outputs": [],
   "source": [
    "### prediction\n",
    "test_prediction = model.predict_proba(test)[:,1]\n",
    "bid_price = [int(214*t) for t in test_prediction]\n",
    "\n",
    "submission = pd.read_csv('Group_xx.csv')\n",
    "submission['bidprice'] = bid_price\n",
    "submission.to_csv('Group_9.csv')"
   ]
  },
  {
   "cell_type": "code",
   "execution_count": 119,
   "metadata": {},
   "outputs": [
    {
     "data": {
      "text/plain": [
       "213"
      ]
     },
     "execution_count": 119,
     "metadata": {},
     "output_type": "execute_result"
    }
   ],
   "source": [
    "max(submission['bidprice'])"
   ]
  },
  {
   "cell_type": "markdown",
   "metadata": {},
   "source": [
    "# 通过 api 测试，得到 click = 162."
   ]
  },
  {
   "cell_type": "markdown",
   "metadata": {},
   "source": [
    "# Threshold sigmoid bidding: 1/( 1+exp^(-z) )"
   ]
  },
  {
   "cell_type": "code",
   "execution_count": 183,
   "metadata": {},
   "outputs": [],
   "source": [
    "# sigmoid = [ 1/( 1 + math.exp(-(z-0.9))) for z in valid_ctr_prediction[:,1] ]\n",
    "\n",
    "# base_prices =  np.arange(188,200,1)\n",
    "# spend = []\n",
    "# clicks = []\n",
    "\n",
    "# for base in base_prices:\n",
    "    \n",
    "#     bid_price = [base*s for s in sigmoid]\n",
    "#     c = EvaluateClick( bid_price, budget , valid_payprice, valid_click)\n",
    "#     clicks.append(c)\n",
    "\n",
    "# plt.figure()\n",
    "# plt.plot(base_prices, clicks)\n",
    "# print('best constant:', base_prices[clicks.index(max(clicks))])"
   ]
  },
  {
   "cell_type": "markdown",
   "metadata": {},
   "source": [
    "### The best constant is 181. With 108 clicks on the validation set. Constraint on (z-0.8)"
   ]
  },
  {
   "cell_type": "code",
   "execution_count": 111,
   "metadata": {},
   "outputs": [],
   "source": [
    "submission = pd.read_csv('Group_xx.csv')\n",
    "test_prediction = model.predict_proba(test)[:,1]\n",
    "sigmoid = [ 1/( 1 + math.exp(-(z-0.9))) for z in test_prediction ]\n",
    "bid_price = [int(181*s) for s in sigmoid]\n",
    "\n",
    "submission['bidprice'] = bid_price\n",
    "submission.to_csv('Group_9.csv')"
   ]
  },
  {
   "cell_type": "markdown",
   "metadata": {},
   "source": [
    "# ORTB: bidding_price = sqrt( pCTR*C\\lambda + C^2) - C"
   ]
  },
  {
   "cell_type": "code",
   "execution_count": 175,
   "metadata": {},
   "outputs": [
    {
     "name": "stdout",
     "output_type": "stream",
     "text": [
      "clicks: 124 impressions: 158508 spend: 6159692\n"
     ]
    },
    {
     "data": {
      "text/plain": [
       "124"
      ]
     },
     "execution_count": 175,
     "metadata": {},
     "output_type": "execute_result"
    }
   ],
   "source": [
    "valid_pctr = valid_ctr_prediction[:,1] \n",
    "lamda = 5.2*10**(-4)\n",
    "c = 10.41\n",
    "\n",
    "bid_price = [ int(math.sqrt(pCTR * c / lamda + c**2) - c ) for pCTR in valid_pctr ]\n",
    "EvaluateClick( bid_price, budget , valid_payprice, valid_click)"
   ]
  },
  {
   "cell_type": "code",
   "execution_count": 176,
   "metadata": {},
   "outputs": [],
   "source": [
    "# C = np.arange(10.4,10.6,0.01)\n",
    "# clicks = []\n",
    "\n",
    "# for c in C:\n",
    "    \n",
    "#     bid_price = [ int(math.sqrt(pCTR * c / lamda + c**2) - c ) for pCTR in valid_pctr ]\n",
    "#     click = EvaluateClick( bid_price, budget , valid_payprice, valid_click)\n",
    "#     clicks.append(click)\n",
    "\n",
    "# plt.figure()\n",
    "# plt.plot(C, clicks)\n",
    "# print('best constant:', C[clicks.index(max(clicks))])"
   ]
  },
  {
   "cell_type": "markdown",
   "metadata": {},
   "source": [
    "### The best click is 124, with lambda = 5.2 * 10**(-4), c = 10.41"
   ]
  },
  {
   "cell_type": "code",
   "execution_count": 179,
   "metadata": {},
   "outputs": [],
   "source": [
    "submission = pd.read_csv('Group_xx.csv')\n",
    "test_prediction = model.predict_proba(test)[:,1]\n",
    "lamda = 5.2*10**(-4)\n",
    "c = 10.41\n",
    "bid_price = [ int(math.sqrt(pCTR * c / lamda + c**2) - c ) for pCTR in test_prediction ]\n",
    "\n",
    "submission['bidprice'] = bid_price\n",
    "submission.to_csv('Group_9.csv')"
   ]
  },
  {
   "cell_type": "markdown",
   "metadata": {},
   "source": [
    "# 通过 api 测试，得到 click = 125. 可能还需要继续 tune lamda 和 c"
   ]
  }
 ],
 "metadata": {
  "kernelspec": {
   "display_name": "Python 3",
   "language": "python",
   "name": "python3"
  },
  "language_info": {
   "codemirror_mode": {
    "name": "ipython",
    "version": 3
   },
   "file_extension": ".py",
   "mimetype": "text/x-python",
   "name": "python",
   "nbconvert_exporter": "python",
   "pygments_lexer": "ipython3",
   "version": "3.6.2"
  }
 },
 "nbformat": 4,
 "nbformat_minor": 2
}
