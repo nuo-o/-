{
 "cells": [
  {
   "cell_type": "markdown",
   "metadata": {},
   "source": [
    "# Import Data"
   ]
  },
  {
   "cell_type": "code",
   "execution_count": 73,
   "metadata": {},
   "outputs": [],
   "source": [
    "%matplotlib inline\n",
    "import matplotlib.pyplot as plt\n",
    "import numpy as np\n",
    "import pickle\n",
    "import time\n",
    "import os.path\n",
    "import math\n",
    "from xgboost import XGBClassifier\n",
    "from sklearn.externals import joblib\n",
    "import pandas as pd\n",
    "\n",
    "n_bytes = 2**31\n",
    "max_bytes = 2**31 - 1\n",
    "\n",
    "class Time_Tracking():\n",
    "    \n",
    "    start_time = None\n",
    "    \n",
    "    def start_tracking(self):\n",
    "        \n",
    "        self.start_time = time.time()\n",
    "    \n",
    "    def stop_tracking(self):\n",
    "        \n",
    "        print(\"Time used:\", round(((time.time() - self.start_time)/60),2), ' minutes')\n",
    "\n",
    "\n",
    "def load_pickle(file_path):\n",
    "    \n",
    "    bytes_in = bytearray(0)\n",
    "    input_size = os.path.getsize(file_path)\n",
    "    with open(file_path, 'rb') as f_in:\n",
    "        for _ in range(0, input_size, max_bytes):\n",
    "            bytes_in += f_in.read(max_bytes)\n",
    "    \n",
    "    return pickle.loads(bytes_in)\n"
   ]
  },
  {
   "cell_type": "code",
   "execution_count": 74,
   "metadata": {},
   "outputs": [],
   "source": [
    "model = joblib.load(\"xgb.pickle.dat\")\n",
    "\n",
    "train = load_pickle('train_df_after_preprocessing.pkl')\n",
    "valid = load_pickle('valid_df_after_preprocessing.pkl')\n",
    "test = load_pickle('test_df_after_preprocessing.pkl')\n",
    "\n",
    "valid_click = valid['click']\n",
    "valid_bidprice = valid['bidprice']\n",
    "valid_payprice = valid['payprice']\n",
    "valid_X = valid.drop(['click', 'bidprice', 'payprice'], axis = 1)"
   ]
  },
  {
   "cell_type": "markdown",
   "metadata": {},
   "source": [
    "### 暂时没时间 tune xgboost, 先 tune 各种strategy"
   ]
  },
  {
   "cell_type": "code",
   "execution_count": 75,
   "metadata": {},
   "outputs": [],
   "source": [
    "# strategy 1: linear bidding(base_line)\n",
    "# strategy 2: OCTR\n",
    "# strategy 3: threshold linear bidding \n",
    "# strategy 4: linear bidding with floor price \n",
    "# strategy 5: sigmoid threshold bid \n",
    "\n",
    "# threshold 可能效果不是很好，因为 threshold = 0.5 的时候，failed = 61, "
   ]
  },
  {
   "cell_type": "code",
   "execution_count": 76,
   "metadata": {},
   "outputs": [],
   "source": [
    "valid_ctr_prediction = model.predict_proba(valid_X)"
   ]
  },
  {
   "cell_type": "code",
   "execution_count": 77,
   "metadata": {},
   "outputs": [
    {
     "name": "stdout",
     "output_type": "stream",
     "text": [
      "spend: 9273  click: 4 impression: 2249\n"
     ]
    }
   ],
   "source": [
    "def EvaluateClick( bid_price, pCTR, budget, valid_payprice, valid_click):\n",
    "    \n",
    "    auction = bid_price >= valid_payprice\n",
    "    win_bid_ix = [index for index, auction in enumerate(auction) if auction]\n",
    "\n",
    "    clicks = sum(valid_click[win_bid_ix])\n",
    "    spend = sum(valid_payprice[win_bid_ix])\n",
    "    num_impress = len(win_bid_ix)\n",
    "\n",
    "    sorted_pCTR_index = sorted(range(len(auction)), key=lambda k: pCTR[k])\n",
    "\n",
    "    if spend > budget:\n",
    "        print('overspend')\n",
    "        for bid_id in sorted_pCTR_index:\n",
    "\n",
    "            spend -= bid_price[bid_id]\n",
    "            clicks -= valid_click[bid_id]\n",
    "            num_impress -=1\n",
    "\n",
    "            if spend <= budget:\n",
    "                break\n",
    "\n",
    "    print('spend:', spend, ' click:', clicks, 'impression:', num_impress)\n",
    "    return spend,clicks, num_impress, bid_price\n",
    "\n",
    "\n",
    "pCTR = valid_ctr_prediction[:,1]\n",
    "bid_price = 10*pCTR\n",
    "EvaluateClick( bid_price, pCTR, 6250000, valid_payprice, valid_click);"
   ]
  },
  {
   "cell_type": "code",
   "execution_count": 78,
   "metadata": {},
   "outputs": [
    {
     "name": "stdout",
     "output_type": "stream",
     "text": [
      "overspend\n",
      "spend: 6249782.10552  click: 201 impression: 233651\n",
      "overspend\n",
      "spend: 6249738.75554  click: 201 impression: 233685\n",
      "overspend\n",
      "spend: 6249952.90175  click: 201 impression: 233719\n",
      "overspend\n",
      "spend: 6249971.40439  click: 201 impression: 233753\n",
      "overspend\n",
      "spend: 6249965.45554  click: 202 impression: 233786\n",
      "best base: 1644\n",
      "[ 400.16662598  254.08079529  292.98690796 ...,  873.49316406  306.6690979\n",
      "  398.89987183]\n"
     ]
    }
   ],
   "source": [
    "# search the best base_price\n",
    "base_prices = np.arange(1640,1660, 1)\n",
    "spend = []\n",
    "clicks = []\n",
    "\n",
    "for base in base_prices:\n",
    "    \n",
    "    pCTR = valid_ctr_prediction[:,1]\n",
    "    bid_price = base*pCTR\n",
    "    s,c,_,bid_prices = EvaluateClick( bid_price, pCTR, 6250000,valid_payprice, valid_click)\n",
    "    spend.append(s)\n",
    "    clicks.append(c)\n",
    "    if c == 202:\n",
    "        print('best base:',base)\n",
    "        print(bid_prices)\n",
    "        break"
   ]
  },
  {
   "cell_type": "markdown",
   "metadata": {},
   "source": [
    "### The best constant is 1644."
   ]
  },
  {
   "cell_type": "code",
   "execution_count": 79,
   "metadata": {},
   "outputs": [
    {
     "data": {
      "text/plain": [
       "1638.4725"
      ]
     },
     "execution_count": 79,
     "metadata": {},
     "output_type": "execute_result"
    }
   ],
   "source": [
    "max(bid_prices)"
   ]
  },
  {
   "cell_type": "code",
   "execution_count": 80,
   "metadata": {},
   "outputs": [
    {
     "name": "stdout",
     "output_type": "stream",
     "text": [
      "overspend\n",
      "spend: 6249347.18262\n"
     ]
    }
   ],
   "source": [
    "### prediction\n",
    "test_prediction = model.predict_proba(test)[:,1]\n",
    "\n",
    "budget = 6250000\n",
    "base_price = 10\n",
    "bid_price = base_price*test_prediction/0.0007\n",
    "sorted_pCTR_index = sorted(range(len(bid_price)), key=lambda k: bid_price[k])\n",
    "spend = sum(bid_price)\n",
    "\n",
    "if spend > budget:\n",
    "    print('overspend')\n",
    "    for bid_id in sorted_pCTR_index:\n",
    "\n",
    "        spend -= bid_price[bid_id]\n",
    "        bid_price[bid_id] = 0\n",
    "        \n",
    "        if spend <= budget:\n",
    "            break\n",
    "\n",
    "print('spend:', spend)\n",
    "\n",
    "\n",
    "submission = pd.read_csv('Group_xx.csv')\n",
    "submission['bidprice'] = bid_price\n",
    "submission.to_csv('Group_9.csv')"
   ]
  },
  {
   "cell_type": "markdown",
   "metadata": {},
   "source": [
    "### As we can see, the linear bidding is good at getting golden bid( absolute clicks ), so the bidding price can be really high. This may helpful in the multinomial case. But this may leads to huge left of budget. "
   ]
  },
  {
   "cell_type": "markdown",
   "metadata": {},
   "source": [
    "# Threshold sigmoid bidding: 1/( 1+exp^(-z) )"
   ]
  },
  {
   "cell_type": "code",
   "execution_count": 76,
   "metadata": {},
   "outputs": [],
   "source": [
    "sigmoid = [ 1/( 1 + math.exp(-(z-0.5))) for z in pCTR ]\n",
    "bid_price = [300*s for s in sigmoid]"
   ]
  },
  {
   "cell_type": "code",
   "execution_count": 86,
   "metadata": {},
   "outputs": [
    {
     "name": "stdout",
     "output_type": "stream",
     "text": [
      "overspend\n",
      "spend: 6249806.33884  click: 202 "
     ]
    },
    {
     "name": "stderr",
     "output_type": "stream",
     "text": [
      "IOPub data rate exceeded.\n",
      "The notebook server will temporarily stop sending output\n",
      "to the client in order to avoid crashing it.\n",
      "To change this limit, set the config variable\n",
      "`--NotebookApp.iopub_data_rate_limit`.\n",
      "\n",
      "Current values:\n",
      "NotebookApp.iopub_data_rate_limit=1000000.0 (bytes/sec)\n",
      "NotebookApp.rate_limit_window=3.0 (secs)\n",
      "\n"
     ]
    }
   ],
   "source": [
    "# search the best max_bid_price\n",
    "base_prices =  np.arange(620,623, 1)\n",
    "spend = []\n",
    "clicks = []\n",
    "\n",
    "for base in base_prices:\n",
    "    \n",
    "    bid_price = [base*s for s in sigmoid]\n",
    "    s,c,_,bid_prices = EvaluateClick( bid_price, pCTR, 6250000,valid_payprice, valid_click)\n",
    "    spend.append(s)\n",
    "    clicks.append(c)\n",
    "    if c == 202:\n",
    "        print('best base:',base)\n",
    "        print(bid_prices)\n",
    "        break"
   ]
  },
  {
   "cell_type": "markdown",
   "metadata": {},
   "source": [
    "### The best constant is 620. "
   ]
  },
  {
   "cell_type": "code",
   "execution_count": 91,
   "metadata": {},
   "outputs": [
    {
     "name": "stdout",
     "output_type": "stream",
     "text": [
      "overspend\n",
      "spend: 6249699.0989470435\n"
     ]
    }
   ],
   "source": [
    "### prediction\n",
    "test_prediction = model.predict_proba(test)[:,1]\n",
    "sigmoid = [ 1/( 1 + math.exp(-(z-0.5))) for z in test_prediction ]\n",
    "\n",
    "budget = 6250000\n",
    "base_price = 620\n",
    "bid_price = [base_price*s for s in sigmoid]\n",
    "sorted_pCTR_index = sorted(range(len(bid_price)), key=lambda k: bid_price[k])\n",
    "spend = sum(bid_price)\n",
    "\n",
    "if spend > budget:\n",
    "    print('overspend')\n",
    "    for bid_id in sorted_pCTR_index:\n",
    "\n",
    "        spend -= bid_price[bid_id]\n",
    "        bid_price[bid_id] = 0\n",
    "        \n",
    "        if spend <= budget:\n",
    "            break\n",
    "\n",
    "print('spend:', spend)"
   ]
  },
  {
   "cell_type": "code",
   "execution_count": 94,
   "metadata": {},
   "outputs": [],
   "source": [
    "submission = pd.read_csv('Group_xx.csv')\n",
    "submission['bidprice'] = bid_price\n",
    "submission.to_csv('Group_9.csv')"
   ]
  },
  {
   "cell_type": "code",
   "execution_count": 96,
   "metadata": {},
   "outputs": [
    {
     "data": {
      "text/plain": [
       "385.6756695093367"
      ]
     },
     "execution_count": 96,
     "metadata": {},
     "output_type": "execute_result"
    }
   ],
   "source": [
    "max(submission['bidprice'])"
   ]
  },
  {
   "cell_type": "markdown",
   "metadata": {},
   "source": [
    "# Save prediction"
   ]
  },
  {
   "cell_type": "code",
   "execution_count": 13,
   "metadata": {},
   "outputs": [],
   "source": [
    "submission = pd.read_csv('Group_xx.csv')\n",
    "submission['bidprice'] = bid_price\n",
    "submission.to_csv('Group_9.csv')"
   ]
  }
 ],
 "metadata": {
  "kernelspec": {
   "display_name": "Python 3",
   "language": "python",
   "name": "python3"
  },
  "language_info": {
   "codemirror_mode": {
    "name": "ipython",
    "version": 3
   },
   "file_extension": ".py",
   "mimetype": "text/x-python",
   "name": "python",
   "nbconvert_exporter": "python",
   "pygments_lexer": "ipython3",
   "version": "3.6.2"
  }
 },
 "nbformat": 4,
 "nbformat_minor": 2
}
