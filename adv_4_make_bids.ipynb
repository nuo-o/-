{
 "cells": [
  {
   "cell_type": "markdown",
   "metadata": {},
   "source": [
    "# Import Data"
   ]
  },
  {
   "cell_type": "code",
   "execution_count": 1,
   "metadata": {},
   "outputs": [],
   "source": [
    "%matplotlib inline\n",
    "import matplotlib.pyplot as plt\n",
    "import numpy as np\n",
    "import pickle\n",
    "import time\n",
    "import os.path\n",
    "import math\n",
    "from xgboost import XGBClassifier\n",
    "from sklearn.externals import joblib\n",
    "\n",
    "n_bytes = 2**31\n",
    "max_bytes = 2**31 - 1\n",
    "\n",
    "class Time_Tracking():\n",
    "    \n",
    "    start_time = None\n",
    "    \n",
    "    def start_tracking(self):\n",
    "        \n",
    "        self.start_time = time.time()\n",
    "    \n",
    "    def stop_tracking(self):\n",
    "        \n",
    "        print(\"Time used:\", round(((time.time() - self.start_time)/60),2), ' minutes')\n",
    "\n",
    "\n",
    "def load_pickle(file_path):\n",
    "    \n",
    "    bytes_in = bytearray(0)\n",
    "    input_size = os.path.getsize(file_path)\n",
    "    with open(file_path, 'rb') as f_in:\n",
    "        for _ in range(0, input_size, max_bytes):\n",
    "            bytes_in += f_in.read(max_bytes)\n",
    "    \n",
    "    return pickle.loads(bytes_in)\n"
   ]
  },
  {
   "cell_type": "code",
   "execution_count": 2,
   "metadata": {},
   "outputs": [],
   "source": [
    "model = joblib.load(\"xgb.pickle.dat\")\n",
    "\n",
    "train = load_pickle('train_df_after_preprocessing.pkl')\n",
    "valid = load_pickle('valid_df_after_preprocessing.pkl')\n",
    "test = load_pickle('test_df_after_preprocessing.pkl')\n",
    "\n",
    "valid_click = valid['click']\n",
    "valid_bidprice = valid['bidprice']\n",
    "valid_payprice = valid['payprice']\n",
    "valid_X = valid.drop(['click', 'bidprice', 'payprice'], axis = 1)"
   ]
  },
  {
   "cell_type": "markdown",
   "metadata": {},
   "source": [
    "### 暂时没时间 tune xgboost, 先 tune 各种strategy"
   ]
  },
  {
   "cell_type": "code",
   "execution_count": 3,
   "metadata": {},
   "outputs": [],
   "source": [
    "# strategy 1: linear bidding(base_line)\n",
    "# strategy 2: OCTR\n",
    "# strategy 3: threshold linear bidding \n",
    "# strategy 4: linear bidding with floor price \n",
    "# strategy 5: sigmoid threshold bid \n",
    "\n",
    "# threshold 可能效果不是很好，因为 threshold = 0.5 的时候，failed = 61, "
   ]
  },
  {
   "cell_type": "code",
   "execution_count": 3,
   "metadata": {},
   "outputs": [],
   "source": [
    "valid_ctr_prediction = model.predict_proba(valid_X)"
   ]
  },
  {
   "cell_type": "code",
   "execution_count": 5,
   "metadata": {},
   "outputs": [],
   "source": [
    "def LinearBidding(pCTR, basePrice, avgCTR):\n",
    "    return basePrice*pCTR/avgCTR"
   ]
  },
  {
   "cell_type": "code",
   "execution_count": 6,
   "metadata": {},
   "outputs": [
    {
     "name": "stdout",
     "output_type": "stream",
     "text": [
      "overspend\n",
      "spend: 6249848  click: 202\n"
     ]
    },
    {
     "data": {
      "text/plain": [
       "(6249848, 202)"
      ]
     },
     "execution_count": 6,
     "metadata": {},
     "output_type": "execute_result"
    }
   ],
   "source": [
    "def EvaluateClick( pCTR, budget, base_price, avg_CTR, valid_payprice, valid_click):\n",
    "    \n",
    "    bid_price = LinearBidding(pCTR, base_price, avg_CTR)\n",
    "    auction = bid_price >= valid_payprice\n",
    "    win_bid_ix = [index for index, auction in enumerate(auction) if auction]\n",
    "\n",
    "    clicks = sum(valid_click[win_bid_ix])\n",
    "    spend = sum(valid_payprice[win_bid_ix])\n",
    "\n",
    "    sorted_pCTR_index = sorted(range(len(pCTR)), key=lambda k: pCTR[k])\n",
    "\n",
    "    if spend > budget:\n",
    "        print('overspend')\n",
    "        for bid_id in sorted_pCTR_index:\n",
    "\n",
    "            spend -= valid_bidprice[bid_id]\n",
    "            clicks -= valid_click[bid_id]\n",
    "\n",
    "            if spend <= budget:\n",
    "                break\n",
    "\n",
    "    print('spend:', spend, ' click:', clicks)\n",
    "    return spend,clicks\n",
    "\n",
    "EvaluateClick( valid_ctr_prediction[:,1], 6250000, 5, 0.0007, valid_payprice, valid_click)"
   ]
  },
  {
   "cell_type": "code",
   "execution_count": 9,
   "metadata": {},
   "outputs": [
    {
     "name": "stdout",
     "output_type": "stream",
     "text": [
      "0.001\n",
      "spend: 19  click: 0\n",
      "0.01\n",
      "spend: 21056  click: 4\n",
      "0.1\n",
      "spend: 3151105  click: 111\n",
      "1\n",
      "overspend\n",
      "spend: 6249851  click: 202\n",
      "10\n",
      "overspend\n",
      "spend: 6249895  click: 202\n",
      "100\n",
      "overspend\n",
      "spend: 6249895  click: 202\n",
      "1000\n",
      "overspend\n",
      "spend: 6249895  click: 202\n"
     ]
    }
   ],
   "source": [
    "# search the best base_price\n",
    "base_prices = [0.001, 0.01, 0.1, 1, 10, 100,1000]\n",
    "spend = []\n",
    "clicks = []\n",
    "\n",
    "for base in base_prices:\n",
    "    print(base)\n",
    "    s,c = EvaluateClick( valid_ctr_prediction[:,1], 6250000, base, 0.0007, valid_payprice, valid_click)\n",
    "    spend.append(s)\n",
    "    clicks.append(c)"
   ]
  },
  {
   "cell_type": "markdown",
   "metadata": {},
   "source": [
    "### The best base_price is 1 with average CTR = 0.0007"
   ]
  },
  {
   "cell_type": "markdown",
   "metadata": {},
   "source": [
    "# Prediction"
   ]
  },
  {
   "cell_type": "code",
   "execution_count": 15,
   "metadata": {},
   "outputs": [],
   "source": [
    "test_prediction = model.predict_proba(test)[:,1]"
   ]
  },
  {
   "cell_type": "code",
   "execution_count": 20,
   "metadata": {},
   "outputs": [
    {
     "name": "stdout",
     "output_type": "stream",
     "text": [
      "overspend\n",
      "spend: 6249846.81995\n"
     ]
    }
   ],
   "source": [
    "budget = 6250000\n",
    "bid_price = test_prediction/0.0007\n",
    "sorted_pCTR_index = sorted(range(len(bid_price)), key=lambda k: bid_price[k])\n",
    "spend = sum(bid_price)\n",
    "\n",
    "if spend > budget:\n",
    "    print('overspend')\n",
    "    for bid_id in sorted_pCTR_index:\n",
    "\n",
    "        spend -= bid_price[bid_id]\n",
    "        bid_price[bid_id] = 0\n",
    "        \n",
    "        if spend <= budget:\n",
    "            break\n",
    "\n",
    "print('spend:', spend)"
   ]
  },
  {
   "cell_type": "code",
   "execution_count": 17,
   "metadata": {},
   "outputs": [
    {
     "data": {
      "text/html": [
       "<div>\n",
       "<style scoped>\n",
       "    .dataframe tbody tr th:only-of-type {\n",
       "        vertical-align: middle;\n",
       "    }\n",
       "\n",
       "    .dataframe tbody tr th {\n",
       "        vertical-align: top;\n",
       "    }\n",
       "\n",
       "    .dataframe thead th {\n",
       "        text-align: right;\n",
       "    }\n",
       "</style>\n",
       "<table border=\"1\" class=\"dataframe\">\n",
       "  <thead>\n",
       "    <tr style=\"text-align: right;\">\n",
       "      <th></th>\n",
       "      <th>weekday</th>\n",
       "      <th>hour</th>\n",
       "      <th>slotprice</th>\n",
       "      <th>OS_android</th>\n",
       "      <th>OS_ios</th>\n",
       "      <th>OS_linux</th>\n",
       "      <th>OS_mac</th>\n",
       "      <th>OS_other</th>\n",
       "      <th>OS_windows</th>\n",
       "      <th>browser_chrome</th>\n",
       "      <th>...</th>\n",
       "      <th>slotvisibility_ThirdView</th>\n",
       "      <th>advertiser_1458</th>\n",
       "      <th>advertiser_2259</th>\n",
       "      <th>advertiser_2261</th>\n",
       "      <th>advertiser_2821</th>\n",
       "      <th>advertiser_2997</th>\n",
       "      <th>advertiser_3358</th>\n",
       "      <th>advertiser_3386</th>\n",
       "      <th>advertiser_3427</th>\n",
       "      <th>advertiser_3476</th>\n",
       "    </tr>\n",
       "  </thead>\n",
       "  <tbody>\n",
       "    <tr>\n",
       "      <th>0</th>\n",
       "      <td>0</td>\n",
       "      <td>12</td>\n",
       "      <td>10</td>\n",
       "      <td>0</td>\n",
       "      <td>0</td>\n",
       "      <td>0</td>\n",
       "      <td>0</td>\n",
       "      <td>0</td>\n",
       "      <td>1</td>\n",
       "      <td>1</td>\n",
       "      <td>...</td>\n",
       "      <td>0</td>\n",
       "      <td>0</td>\n",
       "      <td>0</td>\n",
       "      <td>0</td>\n",
       "      <td>0</td>\n",
       "      <td>0</td>\n",
       "      <td>0</td>\n",
       "      <td>0</td>\n",
       "      <td>1</td>\n",
       "      <td>0</td>\n",
       "    </tr>\n",
       "    <tr>\n",
       "      <th>1</th>\n",
       "      <td>3</td>\n",
       "      <td>14</td>\n",
       "      <td>5</td>\n",
       "      <td>1</td>\n",
       "      <td>0</td>\n",
       "      <td>0</td>\n",
       "      <td>0</td>\n",
       "      <td>0</td>\n",
       "      <td>0</td>\n",
       "      <td>0</td>\n",
       "      <td>...</td>\n",
       "      <td>0</td>\n",
       "      <td>0</td>\n",
       "      <td>0</td>\n",
       "      <td>0</td>\n",
       "      <td>0</td>\n",
       "      <td>1</td>\n",
       "      <td>0</td>\n",
       "      <td>0</td>\n",
       "      <td>0</td>\n",
       "      <td>0</td>\n",
       "    </tr>\n",
       "    <tr>\n",
       "      <th>2</th>\n",
       "      <td>5</td>\n",
       "      <td>19</td>\n",
       "      <td>0</td>\n",
       "      <td>0</td>\n",
       "      <td>0</td>\n",
       "      <td>0</td>\n",
       "      <td>0</td>\n",
       "      <td>0</td>\n",
       "      <td>1</td>\n",
       "      <td>0</td>\n",
       "      <td>...</td>\n",
       "      <td>0</td>\n",
       "      <td>1</td>\n",
       "      <td>0</td>\n",
       "      <td>0</td>\n",
       "      <td>0</td>\n",
       "      <td>0</td>\n",
       "      <td>0</td>\n",
       "      <td>0</td>\n",
       "      <td>0</td>\n",
       "      <td>0</td>\n",
       "    </tr>\n",
       "    <tr>\n",
       "      <th>3</th>\n",
       "      <td>0</td>\n",
       "      <td>21</td>\n",
       "      <td>30</td>\n",
       "      <td>0</td>\n",
       "      <td>0</td>\n",
       "      <td>0</td>\n",
       "      <td>0</td>\n",
       "      <td>0</td>\n",
       "      <td>1</td>\n",
       "      <td>0</td>\n",
       "      <td>...</td>\n",
       "      <td>0</td>\n",
       "      <td>0</td>\n",
       "      <td>0</td>\n",
       "      <td>0</td>\n",
       "      <td>1</td>\n",
       "      <td>0</td>\n",
       "      <td>0</td>\n",
       "      <td>0</td>\n",
       "      <td>0</td>\n",
       "      <td>0</td>\n",
       "    </tr>\n",
       "    <tr>\n",
       "      <th>4</th>\n",
       "      <td>2</td>\n",
       "      <td>20</td>\n",
       "      <td>50</td>\n",
       "      <td>0</td>\n",
       "      <td>0</td>\n",
       "      <td>0</td>\n",
       "      <td>0</td>\n",
       "      <td>0</td>\n",
       "      <td>1</td>\n",
       "      <td>0</td>\n",
       "      <td>...</td>\n",
       "      <td>0</td>\n",
       "      <td>0</td>\n",
       "      <td>0</td>\n",
       "      <td>0</td>\n",
       "      <td>0</td>\n",
       "      <td>0</td>\n",
       "      <td>0</td>\n",
       "      <td>1</td>\n",
       "      <td>0</td>\n",
       "      <td>0</td>\n",
       "    </tr>\n",
       "  </tbody>\n",
       "</table>\n",
       "<p>5 rows × 471 columns</p>\n",
       "</div>"
      ],
      "text/plain": [
       "   weekday  hour  slotprice  OS_android  OS_ios  OS_linux  OS_mac  OS_other  \\\n",
       "0        0    12         10           0       0         0       0         0   \n",
       "1        3    14          5           1       0         0       0         0   \n",
       "2        5    19          0           0       0         0       0         0   \n",
       "3        0    21         30           0       0         0       0         0   \n",
       "4        2    20         50           0       0         0       0         0   \n",
       "\n",
       "   OS_windows  browser_chrome       ...         slotvisibility_ThirdView  \\\n",
       "0           1               1       ...                                0   \n",
       "1           0               0       ...                                0   \n",
       "2           1               0       ...                                0   \n",
       "3           1               0       ...                                0   \n",
       "4           1               0       ...                                0   \n",
       "\n",
       "   advertiser_1458  advertiser_2259  advertiser_2261  advertiser_2821  \\\n",
       "0                0                0                0                0   \n",
       "1                0                0                0                0   \n",
       "2                1                0                0                0   \n",
       "3                0                0                0                1   \n",
       "4                0                0                0                0   \n",
       "\n",
       "   advertiser_2997  advertiser_3358  advertiser_3386  advertiser_3427  \\\n",
       "0                0                0                0                1   \n",
       "1                1                0                0                0   \n",
       "2                0                0                0                0   \n",
       "3                0                0                0                0   \n",
       "4                0                0                1                0   \n",
       "\n",
       "   advertiser_3476  \n",
       "0                0  \n",
       "1                0  \n",
       "2                0  \n",
       "3                0  \n",
       "4                0  \n",
       "\n",
       "[5 rows x 471 columns]"
      ]
     },
     "execution_count": 17,
     "metadata": {},
     "output_type": "execute_result"
    }
   ],
   "source": [
    "test.head()"
   ]
  },
  {
   "cell_type": "code",
   "execution_count": 33,
   "metadata": {},
   "outputs": [],
   "source": [
    "import pandas as pd\n",
    "\n",
    "submission = pd.read_csv('Group_xx.csv')\n",
    "submission['bidprice'] = bid_price\n",
    "submission.to_csv('Group_9.csv')"
   ]
  }
 ],
 "metadata": {
  "kernelspec": {
   "display_name": "Python 3",
   "language": "python",
   "name": "python3"
  },
  "language_info": {
   "codemirror_mode": {
    "name": "ipython",
    "version": 3
   },
   "file_extension": ".py",
   "mimetype": "text/x-python",
   "name": "python",
   "nbconvert_exporter": "python",
   "pygments_lexer": "ipython3",
   "version": "3.6.2"
  }
 },
 "nbformat": 4,
 "nbformat_minor": 2
}
